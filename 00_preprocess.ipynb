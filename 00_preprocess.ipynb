{
  "nbformat": 4,
  "nbformat_minor": 0,
  "metadata": {
    "colab": {
      "provenance": [],
      "authorship_tag": "ABX9TyNv076Oqo1QozrADimd/lDK",
      "include_colab_link": true
    },
    "kernelspec": {
      "name": "python3",
      "display_name": "Python 3"
    },
    "language_info": {
      "name": "python"
    }
  },
  "cells": [
    {
      "cell_type": "markdown",
      "metadata": {
        "id": "view-in-github",
        "colab_type": "text"
      },
      "source": [
        "<a href=\"https://colab.research.google.com/github/matsunagalab/tutorial_analyzingMDdata/blob/main/00_preprocess.ipynb\" target=\"_parent\"><img src=\"https://colab.research.google.com/assets/colab-badge.svg\" alt=\"Open In Colab\"/></a>"
      ]
    },
    {
      "cell_type": "markdown",
      "source": [
        "# Preprocess: remove solvents from MD trajectories"
      ],
      "metadata": {
        "id": "0X69xW8MAEgT"
      }
    },
    {
      "cell_type": "markdown",
      "source": [
        "## MDTrajのインストール"
      ],
      "metadata": {
        "id": "gc7BWdXBq4wn"
      }
    },
    {
      "cell_type": "code",
      "execution_count": 5,
      "metadata": {
        "colab": {
          "base_uri": "https://localhost:8080/"
        },
        "id": "lPrxEpnrqCxY",
        "outputId": "85627604-b342-4e12-c53c-e1da13545461"
      },
      "outputs": [
        {
          "output_type": "stream",
          "name": "stdout",
          "text": [
            "\u001b[33mWARNING: Running pip as the 'root' user can result in broken permissions and conflicting behaviour with the system package manager. It is recommended to use a virtual environment instead: https://pip.pypa.io/warnings/venv\u001b[0m\u001b[33m\n",
            "\u001b[0m✨🍰✨ Everything looks OK!\n"
          ]
        }
      ],
      "source": [
        "!pip install -q condacolab\n",
        "import condacolab\n",
        "condacolab.install()"
      ]
    },
    {
      "cell_type": "code",
      "source": [
        "!conda install -c conda-forge mdtraj"
      ],
      "metadata": {
        "colab": {
          "base_uri": "https://localhost:8080/"
        },
        "id": "rnl67WvV_Ya7",
        "outputId": "14e6aa46-4f33-411b-bea6-75883ef19532"
      },
      "execution_count": 6,
      "outputs": [
        {
          "output_type": "stream",
          "name": "stdout",
          "text": [
            "Collecting package metadata (current_repodata.json): - \b\b\\ \b\b| \b\b/ \b\b- \b\b\\ \b\b| \b\b/ \b\b- \b\b\\ \b\b| \b\b/ \b\b- \b\b\\ \b\b| \b\b/ \b\b- \b\b\\ \b\b| \b\b/ \b\b- \b\b\\ \b\b| \b\b/ \b\b- \b\b\\ \b\b| \b\b/ \b\b- \b\b\\ \b\b| \b\b/ \b\b- \b\b\\ \b\b| \b\b/ \b\b- \b\b\\ \b\b| \b\b/ \b\b- \b\b\\ \b\b| \b\b/ \b\b- \b\b\\ \b\b| \b\b/ \b\b- \b\b\\ \b\b| \b\b/ \b\b- \b\b\\ \b\b| \b\b/ \b\b- \b\b\\ \b\b| \b\b/ \b\b- \b\b\\ \b\b| \b\b/ \b\b- \b\b\\ \b\b| \b\b/ \b\b- \b\b\\ \b\b| \b\b/ \b\b- \b\b\\ \b\b| \b\b/ \b\b- \b\b\\ \b\b| \b\b/ \b\b- \b\b\\ \b\b| \b\b/ \b\b- \b\bdone\n",
            "Solving environment: | \b\b/ \b\b- \b\b\\ \b\b| \b\b/ \b\b- \b\b\\ \b\b| \b\b/ \b\b- \b\b\\ \b\b| \b\b/ \b\b- \b\b\\ \b\b| \b\b/ \b\b- \b\b\\ \b\b| \b\b/ \b\b- \b\b\\ \b\b| \b\b/ \b\b- \b\b\\ \b\b| \b\b/ \b\bdone\n",
            "\n",
            "\n",
            "==> WARNING: A newer version of conda exists. <==\n",
            "  current version: 23.1.0\n",
            "  latest version: 23.5.2\n",
            "\n",
            "Please update conda by running\n",
            "\n",
            "    $ conda update -n base -c conda-forge conda\n",
            "\n",
            "Or to minimize the number of packages updated during conda update use\n",
            "\n",
            "     conda install conda=23.5.2\n",
            "\n",
            "\n",
            "\n",
            "# All requested packages already installed.\n",
            "\n"
          ]
        }
      ]
    },
    {
      "cell_type": "markdown",
      "source": [
        "## T4 LysozymeのMDデータの取得\n",
        "\n",
        "solventsも含まれたデータをダウンロードする。"
      ],
      "metadata": {
        "id": "kAul5GDHq8PP"
      }
    },
    {
      "cell_type": "code",
      "source": [
        "!gdown 1GlAC8QS1m5gWN1uXZa5DXBt5wA8C4q5N\n",
        "!gdown 1GmS7LmoFfn0j1F_iNrtLOQxB78zsiuOt"
      ],
      "metadata": {
        "colab": {
          "base_uri": "https://localhost:8080/"
        },
        "id": "7xrlhSPFqFjc",
        "outputId": "b1f31978-0830-4077-9189-b43f579840f5"
      },
      "execution_count": 2,
      "outputs": [
        {
          "output_type": "stream",
          "name": "stdout",
          "text": [
            "Downloading...\n",
            "From: https://drive.google.com/uc?id=1GlAC8QS1m5gWN1uXZa5DXBt5wA8C4q5N\n",
            "To: /content/run.pdb\n",
            "100% 3.51M/3.51M [00:00<00:00, 153MB/s]\n",
            "Downloading...\n",
            "From: https://drive.google.com/uc?id=1GmS7LmoFfn0j1F_iNrtLOQxB78zsiuOt\n",
            "To: /content/run.dcd\n",
            "100% 5.33M/5.33M [00:00<00:00, 170MB/s]\n"
          ]
        }
      ]
    },
    {
      "cell_type": "markdown",
      "source": [
        "## タンパク質(solute)部分だけ抜き出す"
      ],
      "metadata": {
        "id": "CqrKHWP_AQCm"
      }
    },
    {
      "cell_type": "code",
      "source": [
        "!python3 -c \"import mdtraj as md; t = md.load('run.pdb').remove_solvent(); t.save('protein.pdb')\""
      ],
      "metadata": {
        "id": "evnqDlrYspzP"
      },
      "execution_count": 3,
      "outputs": []
    },
    {
      "cell_type": "code",
      "source": [
        "!python3 -c \"import mdtraj as md; t = md.load('run.dcd', top='run.pdb').remove_solvent(); t.save('protein.dcd')\""
      ],
      "metadata": {
        "id": "ISVyHdWMPs92"
      },
      "execution_count": 4,
      "outputs": []
    },
    {
      "cell_type": "markdown",
      "source": [
        "## alpha carbonだけ抜き出す"
      ],
      "metadata": {
        "id": "ZMZQUDCYA5Bf"
      }
    },
    {
      "cell_type": "code",
      "source": [
        "!python3 -c \"import mdtraj as md; t = md.load('run.pdb'); t2=t.atom_slice(t.topology.select('name CA')); t2.save('ca.pdb')\""
      ],
      "metadata": {
        "id": "DMgeewZOP4zv"
      },
      "execution_count": 10,
      "outputs": []
    },
    {
      "cell_type": "code",
      "source": [
        "!python3 -c \"import mdtraj as md; t = md.load('run.dcd', top='run.pdb'); t2=t.atom_slice(t.topology.select('name CA')); t2.save('ca.dcd')\""
      ],
      "metadata": {
        "id": "6a7eFWnw_DI3"
      },
      "execution_count": 12,
      "outputs": []
    },
    {
      "cell_type": "code",
      "source": [],
      "metadata": {
        "id": "CUBAukwkBDql"
      },
      "execution_count": null,
      "outputs": []
    }
  ]
}