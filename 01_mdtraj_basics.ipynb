{
  "nbformat": 4,
  "nbformat_minor": 0,
  "metadata": {
    "colab": {
      "provenance": [],
      "authorship_tag": "ABX9TyOJZ0iL0H/EVCYOHkEzeAj4",
      "include_colab_link": true
    },
    "kernelspec": {
      "name": "python3",
      "display_name": "Python 3"
    },
    "language_info": {
      "name": "python"
    }
  },
  "cells": [
    {
      "cell_type": "markdown",
      "metadata": {
        "id": "view-in-github",
        "colab_type": "text"
      },
      "source": [
        "<a href=\"https://colab.research.google.com/github/matsunagalab/tutorial_analyzingMDdata/blob/main/01_mdtraj_basics.ipynb\" target=\"_parent\"><img src=\"https://colab.research.google.com/assets/colab-badge.svg\" alt=\"Open In Colab\"/></a>"
      ]
    },
    {
      "cell_type": "markdown",
      "source": [
        "# MDTraj basics"
      ],
      "metadata": {
        "id": "0X69xW8MAEgT"
      }
    },
    {
      "cell_type": "markdown",
      "source": [
        "## MDTrajのインストールとデータのダウンロード"
      ],
      "metadata": {
        "id": "gc7BWdXBq4wn"
      }
    },
    {
      "cell_type": "code",
      "execution_count": 1,
      "metadata": {
        "colab": {
          "base_uri": "https://localhost:8080/"
        },
        "id": "lPrxEpnrqCxY",
        "outputId": "bae9022d-e5af-42fc-ac7a-699a76aa1a5e"
      },
      "outputs": [
        {
          "output_type": "stream",
          "name": "stdout",
          "text": [
            "⏬ Downloading https://github.com/conda-forge/miniforge/releases/download/23.11.0-0/Mambaforge-23.11.0-0-Linux-x86_64.sh...\n",
            "📦 Installing...\n",
            "📌 Adjusting configuration...\n",
            "🩹 Patching environment...\n",
            "⏲ Done in 0:00:19\n",
            "🔁 Restarting kernel...\n",
            "\n",
            "Looking for: ['mdtraj']\n",
            "\n",
            "\u001b[?25l\u001b[2K\u001b[0G[+] 0.0s\n",
            "\u001b[2K\u001b[1A\u001b[2K\u001b[0G[+] 0.1s\n",
            "conda-forge/linux-64  ⣾  \n",
            "conda-forge/noarch    ⣾  \u001b[2K\u001b[1A\u001b[2K\u001b[1A\u001b[2K\u001b[0G[+] 0.2s\n",
            "conda-forge/linux-64   7%\n",
            "conda-forge/noarch     3%\u001b[2K\u001b[1A\u001b[2K\u001b[1A\u001b[2K\u001b[0G[+] 0.3s\n",
            "conda-forge/linux-64  15%\n",
            "conda-forge/noarch    16%\u001b[2K\u001b[1A\u001b[2K\u001b[1A\u001b[2K\u001b[0G[+] 0.4s\n",
            "conda-forge/linux-64  23%\n",
            "conda-forge/noarch    35%\u001b[2K\u001b[1A\u001b[2K\u001b[1A\u001b[2K\u001b[0G[+] 0.5s\n",
            "conda-forge/linux-64  31%\n",
            "conda-forge/noarch    45%\u001b[2K\u001b[1A\u001b[2K\u001b[1A\u001b[2K\u001b[0G[+] 0.6s\n",
            "conda-forge/linux-64  36%\n",
            "conda-forge/noarch    54%\u001b[2K\u001b[1A\u001b[2K\u001b[1A\u001b[2K\u001b[0G[+] 0.7s\n",
            "conda-forge/linux-64  40%\n",
            "conda-forge/noarch    64%\u001b[2K\u001b[1A\u001b[2K\u001b[1A\u001b[2K\u001b[0G[+] 0.8s\n",
            "conda-forge/linux-64  44%\n",
            "conda-forge/noarch    84%\u001b[2K\u001b[1A\u001b[2K\u001b[1A\u001b[2K\u001b[0G[+] 0.9s\n",
            "conda-forge/linux-64  52%\n",
            "conda-forge/noarch    93%\u001b[2K\u001b[1A\u001b[2K\u001b[1A\u001b[2K\u001b[0Gconda-forge/noarch                                \n",
            "[+] 1.0s\n",
            "conda-forge/linux-64  57%\u001b[2K\u001b[1A\u001b[2K\u001b[0G[+] 1.1s\n",
            "conda-forge/linux-64  65%\u001b[2K\u001b[1A\u001b[2K\u001b[0G[+] 1.2s\n",
            "conda-forge/linux-64  74%\u001b[2K\u001b[1A\u001b[2K\u001b[0G[+] 1.3s\n",
            "conda-forge/linux-64  90%\u001b[2K\u001b[1A\u001b[2K\u001b[0Gconda-forge/linux-64                              \n",
            "\u001b[?25h\n",
            "Pinned packages:\n",
            "  - python 3.10.*\n",
            "  - python 3.10.*\n",
            "  - python_abi 3.10.* *cp310*\n",
            "  - cuda-version 12.*\n",
            "\n",
            "\n",
            "Transaction\n",
            "\n",
            "  Prefix: /usr/local\n",
            "\n",
            "  Updating specs:\n",
            "\n",
            "   - mdtraj\n",
            "   - ca-certificates\n",
            "   - certifi\n",
            "   - openssl\n",
            "\n",
            "\n",
            "  Package               Version  Build                Channel           Size\n",
            "──────────────────────────────────────────────────────────────────────────────\n",
            "  Install:\n",
            "──────────────────────────────────────────────────────────────────────────────\n",
            "\n",
            "  \u001b[32m+ libgcc         \u001b[0m      14.1.0  h77fa898_1           conda-forge      846kB\n",
            "  \u001b[32m+ libgfortran5   \u001b[0m      14.1.0  hc5f4f2c_1           conda-forge        1MB\n",
            "  \u001b[32m+ libstdcxx      \u001b[0m      14.1.0  hc0a3c3a_1           conda-forge        4MB\n",
            "  \u001b[32m+ libgfortran    \u001b[0m      14.1.0  h69a702a_1           conda-forge       52kB\n",
            "  \u001b[32m+ libaec         \u001b[0m       1.1.3  h59595ed_0           conda-forge       35kB\n",
            "  \u001b[32m+ zlib-ng        \u001b[0m       2.0.7  h0b41bf4_0           conda-forge       95kB\n",
            "  \u001b[32m+ snappy         \u001b[0m       1.2.1  ha2e4443_0           conda-forge       42kB\n",
            "  \u001b[32m+ zlib           \u001b[0m      1.2.13  hd590300_5           conda-forge       93kB\n",
            "  \u001b[32m+ libgfortran-ng \u001b[0m      14.1.0  h69a702a_1           conda-forge       52kB\n",
            "  \u001b[32m+ c-blosc2       \u001b[0m      2.14.4  hb4ffafa_1           conda-forge      337kB\n",
            "  \u001b[32m+ blosc          \u001b[0m      1.21.5  hc2324a3_1           conda-forge       49kB\n",
            "  \u001b[32m+ libopenblas    \u001b[0m      0.3.27  pthreads_hac2b453_1  conda-forge        6MB\n",
            "  \u001b[32m+ hdf5           \u001b[0m      1.14.3  nompi_h4f84152_100   conda-forge        4MB\n",
            "  \u001b[32m+ libblas        \u001b[0m       3.9.0  24_linux64_openblas  conda-forge       15kB\n",
            "  \u001b[32m+ libcblas       \u001b[0m       3.9.0  24_linux64_openblas  conda-forge       15kB\n",
            "  \u001b[32m+ liblapack      \u001b[0m       3.9.0  24_linux64_openblas  conda-forge       15kB\n",
            "  \u001b[32m+ numpy          \u001b[0m      1.26.4  py310hb13e2d6_0      conda-forge        7MB\n",
            "  \u001b[32m+ scipy          \u001b[0m      1.14.1  py310ha3fb0e1_0      conda-forge       17MB\n",
            "  \u001b[32m+ pyparsing      \u001b[0m       3.1.4  pyhd8ed1ab_0         conda-forge       90kB\n",
            "  \u001b[32m+ six            \u001b[0m      1.16.0  pyh6c4a22f_0         conda-forge       14kB\n",
            "  \u001b[32m+ nomkl          \u001b[0m         1.0  h5ca1d4c_0           conda-forge        4kB\n",
            "  \u001b[32m+ py-cpuinfo     \u001b[0m       9.0.0  pyhd8ed1ab_0         conda-forge       25kB\n",
            "  \u001b[32m+ python-tzdata  \u001b[0m      2024.2  pyhd8ed1ab_0         conda-forge      143kB\n",
            "  \u001b[32m+ pytz           \u001b[0m      2024.1  pyhd8ed1ab_0         conda-forge      189kB\n",
            "  \u001b[32m+ python-dateutil\u001b[0m       2.9.0  pyhd8ed1ab_0         conda-forge      223kB\n",
            "  \u001b[32m+ astunparse     \u001b[0m       1.6.3  pyhd8ed1ab_0         conda-forge       16kB\n",
            "  \u001b[32m+ numexpr        \u001b[0m      2.10.0  py310h3ea09b0_100    conda-forge      135kB\n",
            "  \u001b[32m+ pandas         \u001b[0m       2.2.3  py310h5eaa309_1      conda-forge       13MB\n",
            "  \u001b[32m+ pytables       \u001b[0m       3.9.2  py310hd76cd5d_2      conda-forge        1MB\n",
            "  \u001b[32m+ mdtraj         \u001b[0m      1.10.0  py310he673748_0      conda-forge        1MB\n",
            "\n",
            "  Upgrade:\n",
            "──────────────────────────────────────────────────────────────────────────────\n",
            "\n",
            "  \u001b[31m- ca-certificates\u001b[0m  2023.11.17  hbcca054_0           conda-forge\u001b[32m     Cached\u001b[0m\n",
            "  \u001b[32m+ ca-certificates\u001b[0m   2024.8.30  hbcca054_0           conda-forge      159kB\n",
            "  \u001b[31m- libgomp        \u001b[0m      13.2.0  h807b86a_3           conda-forge\u001b[32m     Cached\u001b[0m\n",
            "  \u001b[32m+ libgomp        \u001b[0m      14.1.0  h77fa898_1           conda-forge      460kB\n",
            "  \u001b[31m- libgcc-ng      \u001b[0m      13.2.0  h807b86a_3           conda-forge\u001b[32m     Cached\u001b[0m\n",
            "  \u001b[32m+ libgcc-ng      \u001b[0m      14.1.0  h69a702a_1           conda-forge       52kB\n",
            "  \u001b[31m- openssl        \u001b[0m       3.2.0  hd590300_1           conda-forge\u001b[32m     Cached\u001b[0m\n",
            "  \u001b[32m+ openssl        \u001b[0m       3.3.2  hb9d3cd8_0           conda-forge        3MB\n",
            "  \u001b[31m- certifi        \u001b[0m  2023.11.17  pyhd8ed1ab_0         conda-forge\u001b[32m     Cached\u001b[0m\n",
            "  \u001b[32m+ certifi        \u001b[0m   2024.8.30  pyhd8ed1ab_0         conda-forge      164kB\n",
            "\n",
            "  Summary:\n",
            "\n",
            "  Install: 30 packages\n",
            "  Upgrade: 5 packages\n",
            "\n",
            "  Total download: 61MB\n",
            "\n",
            "──────────────────────────────────────────────────────────────────────────────\n",
            "\n",
            "\n",
            "\u001b[?25l\u001b[2K\u001b[0G[+] 0.0s\n",
            "Downloading  (5)   0%\n",
            "Extracting         0%\u001b[2K\u001b[1A\u001b[2K\u001b[1A\u001b[2K\u001b[0G[+] 0.1s\n",
            "Downloading  (5)   0%\n",
            "Extracting         0%\u001b[2K\u001b[1A\u001b[2K\u001b[1A\u001b[2K\u001b[0Glibgomp                                            460.2kB @   3.4MB/s  0.1s\n",
            "ca-certificates                                    159.0kB @   1.2MB/s  0.1s\n",
            "libgcc                                             846.4kB @   4.4MB/s  0.2s\n",
            "[+] 0.2s\n",
            "Downloading  (5)   5%\n",
            "Extracting   (2)  ⣾  \u001b[2K\u001b[1A\u001b[2K\u001b[1A\u001b[2K\u001b[0Glibgfortran5                                         1.5MB @   7.1MB/s  0.2s\n",
            "zlib                                                92.8kB @ 411.2kB/s  0.1s\n",
            "libstdcxx                                            3.9MB @  16.5MB/s  0.2s\n",
            "[+] 0.3s\n",
            "Downloading  (5)  19%\n",
            "Extracting   (5)  ⣾  \u001b[2K\u001b[1A\u001b[2K\u001b[1A\u001b[2K\u001b[0Gliblapack                                           14.9kB @  48.8kB/s  0.1s\n",
            "pyparsing                                           90.1kB @ 278.6kB/s  0.1s\n",
            "openssl                                              2.9MB @   8.9MB/s  0.2s\n",
            "hdf5                                                 3.9MB @  11.5MB/s  0.2s\n",
            "[+] 0.4s\n",
            "Downloading  (5)  32%\n",
            "Extracting   (8)  ⣾  \u001b[2K\u001b[1A\u001b[2K\u001b[1A\u001b[2K\u001b[0Gpytz                                               188.5kB @ 456.3kB/s  0.1s\n",
            "python-dateutil                                    222.7kB @ 538.1kB/s  0.1s\n",
            "pytables                                             1.4MB @   2.9MB/s  0.1s\n",
            "[+] 0.5s\n",
            "Downloading  (5)  42%\n",
            "Extracting  (10)  ⣾  \u001b[2K\u001b[1A\u001b[2K\u001b[1A\u001b[2K\u001b[0Gnumpy                                                7.0MB @  13.9MB/s  0.3s\n",
            "zlib-ng                                             94.6kB @ 182.3kB/s  0.1s\n",
            "libgfortran-ng                                      52.2kB @  99.5kB/s  0.1s\n",
            "snappy                                              42.5kB @  77.3kB/s  0.1s\n",
            "py-cpuinfo                                          24.9kB @  44.1kB/s  0.0s\n",
            "python-tzdata                                      142.5kB @ 251.3kB/s  0.0s\n",
            "nomkl                                                3.8kB @   6.6kB/s  0.1s\n",
            "[+] 0.6s\n",
            "Downloading  (5)  51%\n",
            "Extracting  (16)  ⣾  \u001b[2K\u001b[1A\u001b[2K\u001b[1A\u001b[2K\u001b[0Glibgcc-ng                                           52.2kB @  84.5kB/s  0.1s\n",
            "libblas                                             15.0kB @  24.3kB/s  0.1s\n",
            "pandas                                              13.0MB @  20.5MB/s  0.3s\n",
            "six                                                 14.3kB @  21.9kB/s  0.1s\n",
            "libaec                                              35.4kB @  51.9kB/s  0.1s\n",
            "[+] 0.7s\n",
            "Downloading  (5)  65%\n",
            "Extracting  (21)  ⣾  \u001b[2K\u001b[1A\u001b[2K\u001b[1A\u001b[2K\u001b[0Gc-blosc2                                           337.1kB @ 476.4kB/s  0.1s\n",
            "certifi                                            163.8kB @ 227.8kB/s  0.1s\n",
            "libopenblas                                          5.6MB @   7.5MB/s  0.2s\n",
            "blosc                                               48.7kB @  63.8kB/s  0.1s\n",
            "libgfortran                                         52.1kB @  68.3kB/s  0.0s\n",
            "[+] 0.8s\n",
            "Downloading  (5)  73%\n",
            "Extracting  (26)  ⣾  \u001b[2K\u001b[1A\u001b[2K\u001b[1A\u001b[2K\u001b[0Gmdtraj                                               1.2MB @   1.5MB/s  0.1s\n",
            "libcblas                                            14.9kB @  18.1kB/s  0.1s\n",
            "astunparse                                          15.5kB @  18.8kB/s  0.1s\n",
            "numexpr                                            135.1kB @ 161.3kB/s  0.1s\n",
            "[+] 0.9s\n",
            "Downloading  (1)  83%\n",
            "Extracting  (30)  ⣾  \u001b[2K\u001b[1A\u001b[2K\u001b[1A\u001b[2K\u001b[0G[+] 1.0s\n",
            "Downloading  (1)  94%\n",
            "Extracting  (29)  ⣾  \u001b[2K\u001b[1A\u001b[2K\u001b[1A\u001b[2K\u001b[0Gscipy                                               16.9MB @  16.9MB/s  0.4s\n",
            "[+] 1.1s\n",
            "Downloading      100%\n",
            "Extracting  (29)  ⣾  \u001b[2K\u001b[1A\u001b[2K\u001b[1A\u001b[2K\u001b[0G[+] 1.2s\n",
            "Downloading      100%\n",
            "Extracting  (28)  ⣾  \u001b[2K\u001b[1A\u001b[2K\u001b[1A\u001b[2K\u001b[0G[+] 1.3s\n",
            "Downloading      100%\n",
            "Extracting  (25)  ⣾  \u001b[2K\u001b[1A\u001b[2K\u001b[1A\u001b[2K\u001b[0G[+] 1.4s\n",
            "Downloading      100%\n",
            "Extracting  (24)  ⣾  \u001b[2K\u001b[1A\u001b[2K\u001b[1A\u001b[2K\u001b[0G[+] 1.5s\n",
            "Downloading      100%\n",
            "Extracting  (23)  ⣾  \u001b[2K\u001b[1A\u001b[2K\u001b[1A\u001b[2K\u001b[0G[+] 1.6s\n",
            "Downloading      100%\n",
            "Extracting  (21)  ⣾  \u001b[2K\u001b[1A\u001b[2K\u001b[1A\u001b[2K\u001b[0G[+] 1.7s\n",
            "Downloading      100%\n",
            "Extracting  (20)  ⣾  \u001b[2K\u001b[1A\u001b[2K\u001b[1A\u001b[2K\u001b[0G[+] 1.8s\n",
            "Downloading      100%\n",
            "Extracting  (19)  ⣾  \u001b[2K\u001b[1A\u001b[2K\u001b[1A\u001b[2K\u001b[0G[+] 1.9s\n",
            "Downloading      100%\n",
            "Extracting  (18)  ⣾  \u001b[2K\u001b[1A\u001b[2K\u001b[1A\u001b[2K\u001b[0G[+] 2.0s\n",
            "Downloading      100%\n",
            "Extracting  (18)  ⣾  \u001b[2K\u001b[1A\u001b[2K\u001b[1A\u001b[2K\u001b[0G[+] 2.1s\n",
            "Downloading      100%\n",
            "Extracting  (18)  ⣾  \u001b[2K\u001b[1A\u001b[2K\u001b[1A\u001b[2K\u001b[0G[+] 2.2s\n",
            "Downloading      100%\n",
            "Extracting  (18)  ⣾  \u001b[2K\u001b[1A\u001b[2K\u001b[1A\u001b[2K\u001b[0G[+] 2.3s\n",
            "Downloading      100%\n",
            "Extracting  (17)  ⣾  \u001b[2K\u001b[1A\u001b[2K\u001b[1A\u001b[2K\u001b[0G[+] 2.4s\n",
            "Downloading      100%\n",
            "Extracting  (16)  ⣾  \u001b[2K\u001b[1A\u001b[2K\u001b[1A\u001b[2K\u001b[0G[+] 2.5s\n",
            "Downloading      100%\n",
            "Extracting  (14)  ⣾  \u001b[2K\u001b[1A\u001b[2K\u001b[1A\u001b[2K\u001b[0G[+] 2.6s\n",
            "Downloading      100%\n",
            "Extracting  (13)  ⣾  \u001b[2K\u001b[1A\u001b[2K\u001b[1A\u001b[2K\u001b[0G[+] 2.7s\n",
            "Downloading      100%\n",
            "Extracting  (12)  ⣾  \u001b[2K\u001b[1A\u001b[2K\u001b[1A\u001b[2K\u001b[0G[+] 2.8s\n",
            "Downloading      100%\n",
            "Extracting  (12)  ⣾  \u001b[2K\u001b[1A\u001b[2K\u001b[1A\u001b[2K\u001b[0G[+] 2.9s\n",
            "Downloading      100%\n",
            "Extracting  (11)  ⣾  \u001b[2K\u001b[1A\u001b[2K\u001b[1A\u001b[2K\u001b[0G[+] 3.0s\n",
            "Downloading      100%\n",
            "Extracting   (9)  ⣾  \u001b[2K\u001b[1A\u001b[2K\u001b[1A\u001b[2K\u001b[0G[+] 3.1s\n",
            "Downloading      100%\n",
            "Extracting   (7)  ⣾  \u001b[2K\u001b[1A\u001b[2K\u001b[1A\u001b[2K\u001b[0G[+] 3.2s\n",
            "Downloading      100%\n",
            "Extracting   (6)  ⣾  \u001b[2K\u001b[1A\u001b[2K\u001b[1A\u001b[2K\u001b[0G[+] 3.3s\n",
            "Downloading      100%\n",
            "Extracting   (5)  ⣾  \u001b[2K\u001b[1A\u001b[2K\u001b[1A\u001b[2K\u001b[0G[+] 3.4s\n",
            "Downloading      100%\n",
            "Extracting   (4)  ⣾  \u001b[2K\u001b[1A\u001b[2K\u001b[1A\u001b[2K\u001b[0G[+] 3.5s\n",
            "Downloading      100%\n",
            "Extracting   (4)  ⣾  \u001b[2K\u001b[1A\u001b[2K\u001b[1A\u001b[2K\u001b[0G[+] 3.6s\n",
            "Downloading      100%\n",
            "Extracting   (3)  ⣾  \u001b[2K\u001b[1A\u001b[2K\u001b[1A\u001b[2K\u001b[0G[+] 3.7s\n",
            "Downloading      100%\n",
            "Extracting   (2)  ⣾  \u001b[2K\u001b[1A\u001b[2K\u001b[1A\u001b[2K\u001b[0G[+] 3.8s\n",
            "Downloading      100%\n",
            "Extracting   (2)  ⣾  \u001b[2K\u001b[1A\u001b[2K\u001b[1A\u001b[2K\u001b[0G[+] 3.9s\n",
            "Downloading      100%\n",
            "Extracting   (2)  ⣾  \u001b[2K\u001b[1A\u001b[2K\u001b[1A\u001b[2K\u001b[0G[+] 4.0s\n",
            "Downloading      100%\n",
            "Extracting   (2)  ⣾  \u001b[2K\u001b[1A\u001b[2K\u001b[1A\u001b[2K\u001b[0G[+] 4.1s\n",
            "Downloading      100%\n",
            "Extracting   (2)  ⣾  \u001b[2K\u001b[1A\u001b[2K\u001b[1A\u001b[2K\u001b[0G[+] 4.2s\n",
            "Downloading      100%\n",
            "Extracting   (2)  ⣾  \u001b[2K\u001b[1A\u001b[2K\u001b[1A\u001b[2K\u001b[0G[+] 4.3s\n",
            "Downloading      100%\n",
            "Extracting   (2)  ⣾  \u001b[2K\u001b[1A\u001b[2K\u001b[1A\u001b[2K\u001b[0G[+] 4.4s\n",
            "Downloading      100%\n",
            "Extracting   (2)  ⣾  \u001b[2K\u001b[1A\u001b[2K\u001b[1A\u001b[2K\u001b[0G[+] 4.5s\n",
            "Downloading      100%\n",
            "Extracting   (1)  ⣾  \u001b[2K\u001b[1A\u001b[2K\u001b[1A\u001b[2K\u001b[0G[+] 4.6s\n",
            "Downloading      100%\n",
            "Extracting   (1)  ⣾  \u001b[2K\u001b[1A\u001b[2K\u001b[1A\u001b[2K\u001b[0G[+] 4.7s\n",
            "Downloading      100%\n",
            "Extracting   (1)  ⣾  \u001b[2K\u001b[1A\u001b[2K\u001b[1A\u001b[2K\u001b[0G[+] 4.8s\n",
            "Downloading      100%\n",
            "Extracting   (1)  ⣾  \u001b[2K\u001b[1A\u001b[2K\u001b[1A\u001b[2K\u001b[0G\u001b[?25h\n",
            "Downloading and Extracting Packages:\n",
            "\n",
            "Preparing transaction: - \b\b\\ \b\b| \b\b/ \b\b- \b\b\\ \b\bdone\n",
            "Verifying transaction: / \b\b- \b\b\\ \b\b| \b\b/ \b\b- \b\b\\ \b\b| \b\b/ \b\b- \b\b\\ \b\b| \b\bdone\n",
            "Executing transaction: - \b\b\\ \b\b| \b\b/ \b\b- \b\b\\ \b\b| \b\b/ \b\b- \b\b\\ \b\b| \b\b/ \b\b- \b\b\\ \b\b| \b\b/ \b\b- \b\b\\ \b\b| \b\b/ \b\b- \b\b\\ \b\b| \b\b/ \b\b- \b\b\\ \b\b| \b\b/ \b\bdone\n",
            "Downloading...\n",
            "From: https://drive.google.com/uc?id=1Lu22Z7ARKSws77sBaYr84iCcQsnTHId9\n",
            "To: /content/wildtype.pdb\n",
            "100% 214k/214k [00:00<00:00, 107MB/s]\n",
            "Downloading...\n",
            "From (original): https://drive.google.com/uc?id=1Eh0SSSxgAmv7LI2NvAY43tLMLI63lSa-\n",
            "From (redirected): https://drive.google.com/uc?id=1Eh0SSSxgAmv7LI2NvAY43tLMLI63lSa-&confirm=t&uuid=3acd59ff-7ba9-4fc8-8a16-85b111ad044e\n",
            "To: /content/wildtype.dcd\n",
            "100% 318M/318M [00:01<00:00, 173MB/s]\n"
          ]
        }
      ],
      "source": [
        "# Colab environment で mdtraj をインストールする\n",
        "!pip install -q condacolab\n",
        "import condacolab\n",
        "condacolab.install_mambaforge()\n",
        "!mamba install mdtraj\n",
        "\n",
        "# T4 LysozymeのMDデータの取得\n",
        "# 溶媒は削除済みの wildtype.pdb と wildtype.dcd をダウンロードする。\n",
        "!gdown 1Lu22Z7ARKSws77sBaYr84iCcQsnTHId9\n",
        "!gdown 1Eh0SSSxgAmv7LI2NvAY43tLMLI63lSa-"
      ]
    },
    {
      "cell_type": "markdown",
      "source": [
        "## MDTrajを使ってみる\n",
        "\n",
        "以下の文書は MDTrajのドキュメント https://www.mdtraj.org/1.9.7/examples/introduction.html を主に日本語訳したものです。\n",
        "\n",
        "ディスクからトラジェクトリをロードして始めます。MDTrajは自動的にファイル拡張子を解析し、適切なローダーを使用します。\n",
        "Topology情報を含まないファイルをロードするには、Gromacs XTCファイルのようなもの、\n",
        "Topologyを記述する何か、たとえばPDBファイル、をtopキーワード引数で提供する必要があります。"
      ],
      "metadata": {
        "id": "CqrKHWP_AQCm"
      }
    },
    {
      "cell_type": "code",
      "source": [
        "import mdtraj as md\n",
        "import numpy as np\n",
        "\n",
        "# DCDファイルからトラジェクトリを読み込み、対応するPSFトポロジーファイルを使用する\n",
        "# トラジェクトリオブジェクト t が作成される\n",
        "t = md.load('/content/wildtype.dcd', top='/content/wildtype.pdb')\n",
        "\n",
        "# t の中身を出力する\n",
        "print(t)"
      ],
      "metadata": {
        "colab": {
          "base_uri": "https://localhost:8080/"
        },
        "id": "evnqDlrYspzP",
        "outputId": "5315306d-a1c6-4c34-cc0b-c3b2417c4f41"
      },
      "execution_count": 2,
      "outputs": [
        {
          "output_type": "stream",
          "name": "stdout",
          "text": [
            "<mdtraj.Trajectory with 10000 frames, 2643 atoms, 164 residues, and unitcells>\n"
          ]
        }
      ]
    },
    {
      "cell_type": "markdown",
      "source": [
        "Trajectoryのフレームの一部だけに興味がある場合は、それをスライスすることができます。"
      ],
      "metadata": {
        "id": "cefbXOesMffK"
      }
    },
    {
      "cell_type": "code",
      "source": [
        "# 最初の10フレームを見てみましょう\n",
        "print(t[:100:2])"
      ],
      "metadata": {
        "id": "QD2u1WU_sPCd",
        "colab": {
          "base_uri": "https://localhost:8080/"
        },
        "outputId": "95481f66-9246-418b-fd05-2b9e14c9d380"
      },
      "execution_count": 7,
      "outputs": [
        {
          "output_type": "stream",
          "name": "stdout",
          "text": [
            "<mdtraj.Trajectory with 50 frames, 2643 atoms, 164 residues, and unitcells>\n"
          ]
        }
      ]
    },
    {
      "cell_type": "code",
      "source": [
        "# それとも最後のフレームを見る？\n",
        "print(t[-1])"
      ],
      "metadata": {
        "colab": {
          "base_uri": "https://localhost:8080/"
        },
        "id": "49vyl67OFgbd",
        "outputId": "b9ed52c8-4fc2-409a-a492-648e959e9c76"
      },
      "execution_count": 8,
      "outputs": [
        {
          "output_type": "stream",
          "name": "stdout",
          "text": [
            "<mdtraj.Trajectory with 1 frames, 2643 atoms, 164 residues, and unitcells>\n"
          ]
        }
      ]
    },
    {
      "cell_type": "markdown",
      "source": [
        "Trajectoryオブジェクトには多くの情報があります。自明なのは\n",
        "デカルト座標です。それらはxyzの下のnumpy配列として格納されています。全ての\n",
        "座標の長さはナノメートルで保存されています。時間単位\n",
        "はピコ秒です。角度はdegree (radianではない) で保存されています。\n",
        "\n",
        "Trajectoryオブジェクトが持っているプロパティやメソッドは[ドキュメント](https://www.mdtraj.org/1.9.7/api/generated/mdtraj.Trajectory.html#)で確認することができます。"
      ],
      "metadata": {
        "id": "Cal-bvJrMnsH"
      }
    },
    {
      "cell_type": "code",
      "source": [
        "t.xyz.shape"
      ],
      "metadata": {
        "colab": {
          "base_uri": "https://localhost:8080/"
        },
        "id": "XQJXR0z7GPct",
        "outputId": "51a3bd6f-12ab-43c7-bdad-5f37cbb4fed3"
      },
      "execution_count": null,
      "outputs": [
        {
          "output_type": "execute_result",
          "data": {
            "text/plain": [
              "(6768, 2643, 3)"
            ]
          },
          "metadata": {},
          "execution_count": 4
        }
      ]
    },
    {
      "cell_type": "code",
      "source": [
        "np.mean(t.xyz)"
      ],
      "metadata": {
        "colab": {
          "base_uri": "https://localhost:8080/"
        },
        "id": "3Mopsz4kGWtW",
        "outputId": "94a67193-30a4-4562-d7d8-69b286e13ce2"
      },
      "execution_count": 14,
      "outputs": [
        {
          "output_type": "execute_result",
          "data": {
            "text/plain": [
              "3.321987"
            ]
          },
          "metadata": {},
          "execution_count": 14
        }
      ]
    },
    {
      "cell_type": "code",
      "source": [
        "# 最初の10フレームのシミュレーション時間（ピコ秒）\n",
        "t.time[0:10]"
      ],
      "metadata": {
        "colab": {
          "base_uri": "https://localhost:8080/"
        },
        "id": "ICthR7d6Gg52",
        "outputId": "3d4e9432-c46f-4a8c-c8be-6be836e1d5b2"
      },
      "execution_count": 15,
      "outputs": [
        {
          "output_type": "execute_result",
          "data": {
            "text/plain": [
              "array([0, 1, 2, 3, 4, 5, 6, 7, 8, 9])"
            ]
          },
          "metadata": {},
          "execution_count": 15
        }
      ]
    },
    {
      "cell_type": "code",
      "source": [
        "# 最後のフレームの単位セルの長さは？（ナノメートル）\n",
        "t.unitcell_lengths[-1]"
      ],
      "metadata": {
        "colab": {
          "base_uri": "https://localhost:8080/"
        },
        "id": "dEFberZSGLj-",
        "outputId": "3ce74e90-fed2-48d6-b3e7-99d7a5d0d35d"
      },
      "execution_count": 17,
      "outputs": [
        {
          "output_type": "execute_result",
          "data": {
            "text/plain": [
              "array([6.9423013, 6.9423013, 6.9423013], dtype=float32)"
            ]
          },
          "metadata": {},
          "execution_count": 17
        }
      ]
    },
    {
      "cell_type": "markdown",
      "source": [
        "Trajectoryをディスクに戻すのは簡単です。"
      ],
      "metadata": {
        "id": "WA4HwPQPM0xX"
      }
    },
    {
      "cell_type": "code",
      "source": [
        "t.save('trajectory.h5')"
      ],
      "metadata": {
        "id": "-Wi69LDTz2CF"
      },
      "execution_count": 18,
      "outputs": []
    },
    {
      "cell_type": "code",
      "source": [
        "# hdf5形式はファイル内にトポロジを保存するので便利です\n",
        "t[::2].save('halftraj.h5')"
      ],
      "metadata": {
        "id": "v7xYIW1yGoxi"
      },
      "execution_count": null,
      "outputs": []
    },
    {
      "cell_type": "code",
      "source": [
        "# フォーマットは拡張子に基づいて解析されます、またはフォーマット固有のsaveメソッドを呼び出すこともできます\n",
        "t[:10].save_dcd('first-ten-frames.dcd')"
      ],
      "metadata": {
        "id": "6eG7hvbpM6uo"
      },
      "execution_count": 19,
      "outputs": []
    },
    {
      "cell_type": "markdown",
      "source": [
        "TrajectoryオブジェクトにはTopologyオブジェクトへが含まれており、便利に利用することが出来ます。例えば、alpha carbon のみを含むトラジェクトリのコピーを保存したい場合、以下のようにできます。"
      ],
      "metadata": {
        "id": "HBOhk-fiNAvA"
      }
    },
    {
      "cell_type": "code",
      "source": [
        "t.topology.atoms"
      ],
      "metadata": {
        "colab": {
          "base_uri": "https://localhost:8080/"
        },
        "id": "kD9QEg991OqU",
        "outputId": "3d2946fc-09b8-4aa7-c472-ed484d63295b"
      },
      "execution_count": 21,
      "outputs": [
        {
          "output_type": "execute_result",
          "data": {
            "text/plain": [
              "<generator object Topology.atoms at 0x7bc58305dfc0>"
            ]
          },
          "metadata": {},
          "execution_count": 21
        }
      ]
    },
    {
      "cell_type": "code",
      "source": [
        "atoms_to_keep = [a.index for a in t.topology.atoms if a.name == 'CA']\n",
        "t.restrict_atoms(atoms_to_keep) # この操作はトラジェクトリオブジェクトを変化させます\n",
        "t.save('CA-only.h5')"
      ],
      "metadata": {
        "id": "vCSgrmobM-7X"
      },
      "execution_count": 22,
      "outputs": []
    },
    {
      "cell_type": "markdown",
      "source": [
        "Topogyオブジェクトが持つプロパティやメソッドは[ドキュメント](https://www.mdtraj.org/1.9.7/api/generated/mdtraj.Topology.html)で確認することができます。"
      ],
      "metadata": {
        "id": "9pu6V8lCQ9Zq"
      }
    },
    {
      "cell_type": "code",
      "source": [],
      "metadata": {
        "id": "9epu6tHgNdMf"
      },
      "execution_count": null,
      "outputs": []
    }
  ]
}